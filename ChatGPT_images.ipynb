{
 "cells": [
  {
   "cell_type": "code",
   "execution_count": 2,
   "metadata": {},
   "outputs": [],
   "source": [
    "import base64\n",
    "from openai import OpenAI\n",
    "\n",
    "client = OpenAI( api_key= '把APIkey放在這裡～' )\n",
    "\n",
    "# Function to encode the image in to base64\n",
    "def encode_image(image_path): # put image_path here\n",
    "  with open(image_path, \"rb\") as image_file:\n",
    "    return base64.b64encode(image_file.read()).decode('utf-8')\n"
   ]
  },
  {
   "cell_type": "code",
   "execution_count": 3,
   "metadata": {},
   "outputs": [
    {
     "name": "stdout",
     "output_type": "stream",
     "text": [
      "這張照片中有以下元素：\n",
      "1. **城市景觀**：\n",
      "   - 磚塊鋪設的地面廣場。\n",
      "   - 周圍有建築物，包括右方的紅磚建築，其建築風格較為獨特。\n",
      "   - 背景有高樓及在馬路旁的行道樹。\n",
      "\n",
      "2. **自行車與行人**：\n",
      "   - 一位騎橘色共享單車的人物。\n",
      "   - 左邊也看到另一位騎著橘色單車的人物。\n",
      "   - 遠方有其他行人。\n",
      "\n",
      "3. **綠地**：\n",
      "   - 廣場旁有小綠地。\n",
      "   - 一些樹木和植栽，樹上似乎有少量紅色或粉色花朵。\n",
      "\n",
      "4. **標牌與結構**：\n",
      "   - 左側背景有一些交通標誌和設施。\n",
      "   - 綠地周圍有矮牆、建築出入口或通道。\n"
     ]
    }
   ],
   "source": [
    "# Path to your image\n",
    "image_path = './1_rawStreetView/001_NTUFRESHWOMANDOORtoPOYA/0_uHhyh_wjYCxoWSUCvuyR5w_right.png' #image path\n",
    "base64_image = encode_image(image_path) #convert the image into designated format (Base64)\n",
    "\n",
    "response = client.chat.completions.create(\n",
    "    model=\"gpt-4o-2024-11-20\", # put the version that you want\n",
    "    messages=[\n",
    "    {\n",
    "        \"role\": \"user\",\n",
    "        \"content\": [\n",
    "        {\n",
    "            \"type\": \"text\",\n",
    "            \"text\": \"請問這張照片有什麼？\",\n",
    "        },\n",
    "        {\n",
    "            \"type\": \"image_url\",\n",
    "            \"image_url\": {\n",
    "            \"url\":  f\"data:image/jpeg;base64,{base64_image}\"\n",
    "            },\n",
    "        },\n",
    "        ],\n",
    "    }\n",
    "    ],\n",
    ")\n",
    "\n",
    "# Correctly extract the result using attributes\n",
    "chatGPT_reply = response.choices[0].message.content\n",
    "print(chatGPT_reply)"
   ]
  }
 ],
 "metadata": {
  "kernelspec": {
   "display_name": "master",
   "language": "python",
   "name": "python3"
  },
  "language_info": {
   "codemirror_mode": {
    "name": "ipython",
    "version": 3
   },
   "file_extension": ".py",
   "mimetype": "text/x-python",
   "name": "python",
   "nbconvert_exporter": "python",
   "pygments_lexer": "ipython3",
   "version": "3.11.4"
  }
 },
 "nbformat": 4,
 "nbformat_minor": 2
}
